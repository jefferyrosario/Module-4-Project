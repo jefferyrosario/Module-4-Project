{
 "cells": [
  {
   "cell_type": "code",
   "execution_count": 612,
   "metadata": {},
   "outputs": [],
   "source": [
    "import numpy as np\n",
    "import pandas as pd\n",
    "import matplotlib.pyplot as plt\n",
    "%matplotlib inline\n",
    "import keras\n",
    "from keras.models import Sequential \n",
    "from keras.preprocessing.image import ImageDataGenerator, array_to_img, img_to_array, load_img\n",
    "import PIL\n",
    "import tensorflow as tf\n",
    "import os, shutil\n",
    "from sklearn.decomposition import PCA\n",
    "from sklearn.preprocessing import StandardScaler\n",
    "from keras.layers import Dense, Dropout\n",
    "from imblearn.over_sampling import SMOTE\n",
    "from keras.callbacks import EarlyStopping\n",
    "from sklearn.metrics import classification_report\n",
    "from keras.metrics import Accuracy, AUC, Precision, Recall\n",
    "from keras.wrappers.scikit_learn import KerasClassifier\n",
    "from sklearn.model_selection import GridSearchCV\n",
    "from sklearn.utils.class_weight import compute_class_weight\n",
    "import seaborn as sns\n",
    "from keras import layers\n",
    "from sklearn.metrics import plot_confusion_matrix, plot_precision_recall_curve, plot_roc_curve, confusion matrix\n",
    "import itertools\n",
    "np.random.seed(123)\n",
    "sns.set()"
   ]
  },
  {
   "cell_type": "code",
   "execution_count": 2,
   "metadata": {},
   "outputs": [],
   "source": [
    "\n",
    "def len_of_dir(directory1, directory2):\n",
    "    #retrieve the length of the first and second directory\n",
    "    \n",
    "    return len(os.listdir(directory2)) + len(os.listdir(directory1))\n",
    "\n",
    "def create_generators(directory, batch_size):\n",
    "    #create generators for image files\n",
    "    generator = ImageDataGenerator(rescale = 1./255).flow_from_directory(directory,\n",
    "                                                                         target_size= (64,64),\n",
    "                                                                         batch_size= batch_size,\n",
    "                                                                         class_mode= 'binary')\n",
    "    return generator\n",
    "\n",
    "\n",
    "def check_shape(images):\n",
    "    #prints the shape of the images\n",
    "    \n",
    "    print(\"Dimensions of set:\",images.shape)\n",
    "    \n",
    "def plot_imbalance(x, y, count_of_plots = 1):\n",
    "    if count_of_plots == 1:\n",
    "        fig, ax = plt.subplots(1,1, figsize = (10,8))\n",
    "        ax.bar(x, y)\n",
    "        ax.set_ylabel('Count')\n",
    "        plt.title('Count of Pneumonia vs Normal Chest X-Ray')\n",
    "        \n",
    "       \n",
    "        \n",
    "    \n",
    "    \n",
    "def check_for_data_imbalance(data):\n",
    "    imbalance = np.count_nonzero(data, axis = 0)\n",
    "    \n",
    "    normal = imbalance[0]\n",
    "    pneumonia = imbalance[1]\n",
    "    plot_imbalance(['Normal', 'Pneumonia'], [normal, pneumonia])\n",
    "    \n",
    "    ratio = normal / pneumonia\n",
    "    return ratio\n",
    "\n",
    "\n",
    "def plot_accuracy_loss(train_loss, val_loss, train_acc, val_acc, epochs):\n",
    "    \n",
    "    epochs = list(range(0,epochs))\n",
    "    fig, (ax1, ax2) = plt.subplots(1,2, figsize = (15,5))\n",
    "    \n",
    "    ax1.plot(epochs, train_acc, label = 'Training Accuracy')\n",
    "    ax1.plot(epochs,val_acc , label = 'Validation Accuracy')\n",
    "    ax1.set_title('Training Accuracy vs Validation Accuracy')\n",
    "    ax1.set_xlabel('Epochs')\n",
    "    ax1.set_ylabel('Accuracy')\n",
    "    \n",
    "    ax2.plot(epochs, train_loss, label = 'Training Loss')\n",
    "    ax2.plot(epochs, val_loss, label = 'Validation Loss')\n",
    "    ax2.set_title('Training Loss vs Validation Loss')\n",
    "    ax2.set_xlabel('Epochs')\n",
    "    ax2.set_ylabel('Loss')\n",
    "    plt.title('Training Loss vs Validation Loss',)\n",
    "    plt.legend()\n",
    "    \n",
    "\n",
    "    "
   ]
  },
  {
   "cell_type": "markdown",
   "metadata": {},
   "source": [
    "# Problem Statement\n",
    "\n",
    "A healthcare software company has identified a key opportunity in chest x-rays. They have asked the Data Scientist to determine the likelihood of pneumonia using chest x-rays. The goal of this project is to use machine learning and deep learning techniques to classify chest x-rays into normal and peumonia cases. This is a binary classification task.\n",
    "\n",
    "A dataset was procured from "
   ]
  },
  {
   "cell_type": "markdown",
   "metadata": {},
   "source": [
    "# Data Preparation"
   ]
  },
  {
   "cell_type": "markdown",
   "metadata": {},
   "source": [
    "The files are set up in the 'chest_xray' directory. Within this directory there are 3 subdirectories containing a training, validation and test set. We will explore some models to determine a model that we can use with great confidence."
   ]
  },
  {
   "cell_type": "code",
   "execution_count": 3,
   "metadata": {},
   "outputs": [],
   "source": [
    "#assign variables to the directories and subdirectories containing the xrays\n",
    "\n",
    "train_dir = 'chest_xray/train/'\n",
    "train_dir_normal = 'chest_xray/train/NORMAL/'\n",
    "train_dir_pneumonia = 'chest_xray/train/PNEUMONIA/'\n",
    "\n",
    "test_dir = 'chest_xray/test/'\n",
    "test_dir_normal = 'chest_xray/test/NORMAL/'\n",
    "test_dir_pneumonia = 'chest_xray/test/PNEUMONIA/'\n",
    "\n",
    "val_dir = 'chest_xray/val'\n",
    "val_dir_normal = 'chest_xray/val/NORMAL/'\n",
    "val_dir_pneumonia = 'chest_xray/val/PNEUMONIA/'"
   ]
  },
  {
   "cell_type": "code",
   "execution_count": 4,
   "metadata": {},
   "outputs": [],
   "source": [
    "# find the amount of images there are for each set for preprocessing\n",
    "\n",
    "length_of_train = len_of_dir(train_dir_normal, train_dir_pneumonia)\n",
    "\n",
    "length_of_val = len_of_dir(val_dir_normal, val_dir_pneumonia)\n",
    "\n",
    "length_of_test = len_of_dir(test_dir_normal, test_dir_pneumonia)\n"
   ]
  },
  {
   "cell_type": "code",
   "execution_count": 764,
   "metadata": {},
   "outputs": [
    {
     "name": "stdout",
     "output_type": "stream",
     "text": [
      "Found 5216 images belonging to 2 classes.\n",
      "Found 624 images belonging to 2 classes.\n",
      "Found 16 images belonging to 2 classes.\n"
     ]
    }
   ],
   "source": [
    "#generate batches of images \n",
    "train_generator = ImageDataGenerator(rescale=1./255).flow_from_directory(train_dir, \n",
    "                                                                         target_size=(64, 64),\n",
    "                                                                         batch_size = length_of_train)\n",
    "\n",
    "test_generator = ImageDataGenerator(rescale = 1./255).flow_from_directory(test_dir,\n",
    "                                                                          target_size=(64,64),\n",
    "                                                                          batch_size= length_of_test)\n",
    "val_generator = ImageDataGenerator(rescale = 1./255).flow_from_directory(val_dir,\n",
    "                                                                         target_size=(64,64),\n",
    "                                                                         batch_size= length_of_val)\n",
    "\n",
    "#create two lists, one with images and one with predictor labels\n",
    "\n",
    "train_images, train_labels = next(train_generator)\n",
    "\n",
    "test_images, test_labels = next(test_generator)\n",
    "\n",
    "val_images, val_labels = next(val_generator)"
   ]
  },
  {
   "cell_type": "markdown",
   "metadata": {},
   "source": [
    "# Exploratory Data Analysis\n",
    "\n",
    "Let's take a look at the data. We should look at the data to determine if there is an imbalance in the dataset, how we should proceed with image augmentation, and which kind of models we will build. "
   ]
  },
  {
   "cell_type": "code",
   "execution_count": 568,
   "metadata": {},
   "outputs": [
    {
     "name": "stdout",
     "output_type": "stream",
     "text": [
      "Dimensions of set: (5216, 64, 64, 3)\n",
      "Dimensions of set: (624, 64, 64, 3)\n",
      "Dimensions of set: (16, 64, 64, 3)\n"
     ]
    }
   ],
   "source": [
    "check_shape(train_images)\n",
    "check_shape(test_images)\n",
    "check_shape(val_images)"
   ]
  },
  {
   "cell_type": "code",
   "execution_count": 569,
   "metadata": {},
   "outputs": [
    {
     "data": {
      "text/plain": [
       "(5216, 2)"
      ]
     },
     "execution_count": 569,
     "metadata": {},
     "output_type": "execute_result"
    }
   ],
   "source": [
    "train_labels.shape"
   ]
  },
  {
   "cell_type": "markdown",
   "metadata": {},
   "source": [
    "Let's check how balanced the dataset is. Keras allows us to initialize class weights for eac class in the model."
   ]
  },
  {
   "cell_type": "code",
   "execution_count": 611,
   "metadata": {},
   "outputs": [
    {
     "data": {
      "text/plain": [
       "0.3460645161290323"
      ]
     },
     "execution_count": 611,
     "metadata": {},
     "output_type": "execute_result"
    },
    {
     "data": {
      "image/png": "[encoded data removed]",
      "text/plain": [
       "<Figure size 720x576 with 1 Axes>"
      ]
     },
     "metadata": {},
     "output_type": "display_data"
    }
   ],
   "source": [
    "check_for_data_imbalance(train_labels)"
   ]
  },
  {
   "cell_type": "code",
   "execution_count": 570,
   "metadata": {},
   "outputs": [
    {
     "name": "stdout",
     "output_type": "stream",
     "text": [
      "(5216, 12288)\n",
      "(624, 12288)\n",
      "(16, 12288)\n"
     ]
    }
   ],
   "source": [
    "train_img = train_images.reshape(train_images.shape[0], -1)\n",
    "test_img = test_images.reshape(test_images.shape[0], -1)\n",
    "val_img = val_images.reshape(val_images.shape[0], -1)\n",
    "\n",
    "print(train_img.shape)\n",
    "print(test_img.shape)\n",
    "print(val_img.shape)"
   ]
  },
  {
   "cell_type": "code",
   "execution_count": 431,
   "metadata": {},
   "outputs": [],
   "source": [
    "# we will assign the class weights for the model\n",
    "\n",
    "initial_bias = np.log(len(os.listdir(train_dir_pneumonia))/len(os.listdir(train_dir_normal)))\n",
    "\n",
    "initial_bias\n",
    "\n",
    "from sklearn.utils.class_weight import compute_class_weight\n",
    "\n",
    "class_weights = compute_class_weight(class_weight='balanced',\n",
    "                                     classes= np.unique(train_aug_labels),\n",
    "                                     y = train_aug_labels)"
   ]
  },
  {
   "cell_type": "code",
   "execution_count": 571,
   "metadata": {},
   "outputs": [],
   "source": [
    "train_y = np.reshape(train_labels[:,0], (5216,1))\n",
    "test_y = np.reshape(test_labels[:,0],(624,1))\n",
    "val_y = np.reshape(val_labels[:,0],(16,1))"
   ]
  },
  {
   "cell_type": "code",
   "execution_count": 572,
   "metadata": {},
   "outputs": [
    {
     "data": {
      "text/plain": [
       "array([[1., 0.],\n",
       "       [0., 1.],\n",
       "       [0., 1.],\n",
       "       [0., 1.],\n",
       "       [0., 1.],\n",
       "       [0., 1.],\n",
       "       [0., 1.],\n",
       "       [0., 1.],\n",
       "       [0., 1.],\n",
       "       [0., 1.]], dtype=float32)"
      ]
     },
     "execution_count": 572,
     "metadata": {},
     "output_type": "execute_result"
    }
   ],
   "source": [
    "train_labels[:10]"
   ]
  },
  {
   "cell_type": "markdown",
   "metadata": {},
   "source": [
    "Let's take a look at the actual images to see what we are working with."
   ]
  },
  {
   "cell_type": "code",
   "execution_count": 763,
   "metadata": {},
   "outputs": [
    {
     "data": {
      "image/png": "[encoded data removed]",
      "text/plain": [
       "<Figure size 360x360 with 1 Axes>"
      ]
     },
     "metadata": {},
     "output_type": "display_data"
    },
    {
     "data": {
      "image/png": "[encoded data removed]",
      "text/plain": [
       "<Figure size 432x288 with 1 Axes>"
      ]
     },
     "metadata": {},
     "output_type": "display_data"
    },
    {
     "data": {
      "image/png": "[encoded data removed]",
      "text/plain": [
       "<Figure size 432x288 with 1 Axes>"
      ]
     },
     "metadata": {},
     "output_type": "display_data"
    },
    {
     "data": {
      "image/png": "[encoded data removed]",
      "text/plain": [
       "<Figure size 432x288 with 1 Axes>"
      ]
     },
     "metadata": {},
     "output_type": "display_data"
    },
    {
     "data": {
      "image/png": "[encoded data removed]",
      "text/plain": [
       "<Figure size 432x288 with 1 Axes>"
      ]
     },
     "metadata": {},
     "output_type": "display_data"
    }
   ],
   "source": [
    "def plt_xrays(imgs, labels):\n",
    "    plt.figure(figsize = (5,5))\n",
    "    for i,img in enumerate(imgs):\n",
    "        plt.imshow(img)\n",
    "        plt.axis('off')\n",
    "        if labels[i] == 0:\n",
    "            plt.title('Normal',\n",
    "                      fontdict ={'fontsize' : 16})\n",
    "        else:\n",
    "            plt.title('Pneumonia',\n",
    "                      fontdict = {'fontsize': 16})\n",
    "        plt.show()\n",
    "        \n",
    "    \n",
    "plt_xrays(train_img[10:15], train_labels[10:15])\n",
    "        \n",
    "        \n",
    "    "
   ]
  },
  {
   "cell_type": "markdown",
   "metadata": {},
   "source": [
    "# Data Modeling\n",
    "\n",
    "### Baseline Model\n",
    "\n",
    "We will begin by creating a baseline model in which we will improve upon. The baseline model will be a densely connected neural network with two hidden layers and one output layer. Let's use a grid search to determine the best model with specific neurons, and epochs."
   ]
  },
  {
   "cell_type": "code",
   "execution_count": 603,
   "metadata": {},
   "outputs": [
    {
     "name": "stdout",
     "output_type": "stream",
     "text": [
      "Fitting 3 folds for each of 125 candidates, totalling 375 fits\n"
     ]
    },
    {
     "name": "stderr",
     "output_type": "stream",
     "text": [
      "[Parallel(n_jobs=-1)]: Using backend LokyBackend with 4 concurrent workers.\n",
      "[Parallel(n_jobs=-1)]: Done  42 tasks      | elapsed:  8.3min\n",
      "[Parallel(n_jobs=-1)]: Done 192 tasks      | elapsed: 35.1min\n",
      "C:\\Users\\Public\\Anaconda3\\lib\\site-packages\\joblib\\externals\\loky\\process_executor.py:706: UserWarning: A worker stopped while some jobs were given to the executor. This can be caused by a too short worker timeout or by a memory leak.\n",
      "  \"timeout or by a memory leak.\", UserWarning\n",
      "[Parallel(n_jobs=-1)]: Done 375 out of 375 | elapsed: 76.6min finished\n"
     ]
    },
    {
     "name": "stdout",
     "output_type": "stream",
     "text": [
      "Epoch 1/30\n",
      "163/163 [==============================] - 2s 10ms/step - loss: 0.4529 - accuracy: 0.7768\n",
      "Epoch 2/30\n",
      "163/163 [==============================] - 1s 7ms/step - loss: 0.3217 - accuracy: 0.8748\n",
      "Epoch 3/30\n",
      "163/163 [==============================] - 1s 6ms/step - loss: 0.2774 - accuracy: 0.9016\n",
      "Epoch 4/30\n",
      "163/163 [==============================] - 1s 7ms/step - loss: 0.2642 - accuracy: 0.9030\n",
      "Epoch 5/30\n",
      "163/163 [==============================] - 1s 6ms/step - loss: 0.2481 - accuracy: 0.9089\n",
      "Epoch 6/30\n",
      "163/163 [==============================] - 1s 7ms/step - loss: 0.2651 - accuracy: 0.8890\n",
      "Epoch 7/30\n",
      "163/163 [==============================] - 1s 8ms/step - loss: 0.3567 - accuracy: 0.7928\n",
      "Epoch 8/30\n",
      "163/163 [==============================] - 1s 7ms/step - loss: 0.3348 - accuracy: 0.8067\n",
      "Epoch 9/30\n",
      "163/163 [==============================] - 1s 7ms/step - loss: 0.3392 - accuracy: 0.8050\n",
      "Epoch 10/30\n",
      "163/163 [==============================] - 1s 7ms/step - loss: 0.3278 - accuracy: 0.8146\n",
      "Epoch 11/30\n",
      "163/163 [==============================] - 1s 7ms/step - loss: 0.3322 - accuracy: 0.8066\n",
      "Epoch 12/30\n",
      "163/163 [==============================] - 1s 8ms/step - loss: 0.3171 - accuracy: 0.8206\n",
      "Epoch 13/30\n",
      "163/163 [==============================] - 1s 6ms/step - loss: 0.3273 - accuracy: 0.8100\n",
      "Epoch 14/30\n",
      "163/163 [==============================] - 1s 7ms/step - loss: 0.3151 - accuracy: 0.8250\n",
      "Epoch 15/30\n",
      "163/163 [==============================] - 1s 7ms/step - loss: 0.3309 - accuracy: 0.8058\n",
      "Epoch 16/30\n",
      "163/163 [==============================] - 1s 8ms/step - loss: 0.3288 - accuracy: 0.8052\n",
      "Epoch 17/30\n",
      "163/163 [==============================] - 1s 7ms/step - loss: 0.3138 - accuracy: 0.8244\n",
      "Epoch 18/30\n",
      "163/163 [==============================] - 1s 7ms/step - loss: 0.3264 - accuracy: 0.8100\n",
      "Epoch 19/30\n",
      "163/163 [==============================] - 1s 7ms/step - loss: 0.3235 - accuracy: 0.8133\n",
      "Epoch 20/30\n",
      "163/163 [==============================] - 1s 7ms/step - loss: 0.3277 - accuracy: 0.8104\n",
      "Epoch 21/30\n",
      "163/163 [==============================] - 1s 7ms/step - loss: 0.3201 - accuracy: 0.8142\n",
      "Epoch 22/30\n",
      "163/163 [==============================] - 1s 7ms/step - loss: 0.3116 - accuracy: 0.8234\n",
      "Epoch 23/30\n",
      "163/163 [==============================] - 1s 7ms/step - loss: 0.3192 - accuracy: 0.8156\n",
      "Epoch 24/30\n",
      "163/163 [==============================] - 1s 7ms/step - loss: 0.3114 - accuracy: 0.8234\n",
      "Epoch 25/30\n",
      "163/163 [==============================] - 1s 7ms/step - loss: 0.3155 - accuracy: 0.8171\n",
      "Epoch 26/30\n",
      "163/163 [==============================] - 1s 7ms/step - loss: 0.3126 - accuracy: 0.8221\n",
      "Epoch 27/30\n",
      "163/163 [==============================] - 1s 7ms/step - loss: 0.3225 - accuracy: 0.8110\n",
      "Epoch 28/30\n",
      "163/163 [==============================] - 1s 8ms/step - loss: 0.3108 - accuracy: 0.8244\n",
      "Epoch 29/30\n",
      "163/163 [==============================] - 1s 8ms/step - loss: 0.3223 - accuracy: 0.8113\n",
      "Epoch 30/30\n",
      "163/163 [==============================] - 1s 8ms/step - loss: 0.3140 - accuracy: 0.8173\n"
     ]
    },
    {
     "data": {
      "text/plain": [
       "GridSearchCV(cv=3,\n",
       "             estimator=<tensorflow.python.keras.wrappers.scikit_learn.KerasClassifier object at 0x000002063C030C88>,\n",
       "             n_jobs=-1,\n",
       "             param_grid={'epochs': [30], 'neurons': (10, 15, 20, 30, 40),\n",
       "                         'second_neurons': (10, 15, 20, 30, 40),\n",
       "                         'third_neurons': (10, 15, 20, 30, 40)},\n",
       "             verbose=1)"
      ]
     },
     "execution_count": 603,
     "metadata": {},
     "output_type": "execute_result"
    }
   ],
   "source": [
    "\n",
    "def create_model(optimizer = 'adam',\n",
    "                 neurons = 1, \n",
    "                 second_neurons = 1, \n",
    "                 third_neurons = 1,\n",
    "                 dropout = True,\n",
    "                 shape = 12288):\n",
    "    \n",
    "    model = Sequential()\n",
    "    model.add(Dense(neurons, activation = 'relu', input_shape = (shape,)))\n",
    "    if dropout == True:\n",
    "        model.add(Dropout(0.2))\n",
    "    model.add(Dense(second_neurons, activation = 'relu'))\n",
    "    if dropout == True:\n",
    "        model.add(Dropout(0.2))\n",
    "    model.add(Dense(third_neurons, activation = 'relu'))\n",
    "    model.add(Dense(1, activation = 'sigmoid'))\n",
    "\n",
    "# Compile model\n",
    "    model.compile(optimizer = optimizer,\n",
    "                  loss = 'binary_crossentropy',\n",
    "                  metrics = ['accuracy'],\n",
    "    \n",
    "             )\n",
    "    \n",
    "    return model\n",
    "\n",
    "ns = 10,15,20,30,40\n",
    "model = KerasClassifier(create_model,epochs = 30)\n",
    "param_grids = { 'epochs': [30], 'neurons' : ns, 'second_neurons' : ns , 'third_neurons': ns}\n",
    "grid = GridSearchCV(model,param_grid= param_grids, n_jobs = -1, cv = 3, verbose = 1)\n",
    "\n",
    "grid.fit(train_img, train_y)\n",
    "\n",
    "\n"
   ]
  },
  {
   "cell_type": "code",
   "execution_count": 604,
   "metadata": {},
   "outputs": [
    {
     "data": {
      "text/plain": [
       "{'epochs': 30, 'neurons': 30, 'second_neurons': 20, 'third_neurons': 15}"
      ]
     },
     "execution_count": 604,
     "metadata": {},
     "output_type": "execute_result"
    }
   ],
   "source": [
    "grid.best_params_"
   ]
  },
  {
   "cell_type": "code",
   "execution_count": 607,
   "metadata": {},
   "outputs": [
    {
     "name": "stdout",
     "output_type": "stream",
     "text": [
      "Epoch 1/50\n",
      "163/163 [==============================] - 3s 21ms/step - loss: 0.5085 - accuracy: 0.7540 - val_loss: 0.8356 - val_accuracy: 0.5625\n",
      "Epoch 2/50\n",
      "163/163 [==============================] - 2s 10ms/step - loss: 0.3514 - accuracy: 0.8426 - val_loss: 1.1858 - val_accuracy: 0.5625\n",
      "Epoch 3/50\n",
      "163/163 [==============================] - 2s 9ms/step - loss: 0.2780 - accuracy: 0.9005 - val_loss: 0.4240 - val_accuracy: 0.8750\n",
      "Epoch 4/50\n",
      "163/163 [==============================] - 3s 17ms/step - loss: 0.3229 - accuracy: 0.8405 - val_loss: 0.4022 - val_accuracy: 0.9375\n",
      "Epoch 5/50\n",
      "163/163 [==============================] - 2s 10ms/step - loss: 0.3635 - accuracy: 0.7901 - val_loss: 0.4248 - val_accuracy: 0.9375\n",
      "Epoch 6/50\n",
      "163/163 [==============================] - 1s 8ms/step - loss: 0.3281 - accuracy: 0.8242 - val_loss: 0.4817 - val_accuracy: 0.8750\n",
      "Epoch 7/50\n",
      "163/163 [==============================] - 1s 6ms/step - loss: 0.3183 - accuracy: 0.8524 - val_loss: 0.4574 - val_accuracy: 0.8750\n",
      "Epoch 8/50\n",
      "163/163 [==============================] - 1s 6ms/step - loss: 0.2269 - accuracy: 0.9210 - val_loss: 0.4320 - val_accuracy: 0.8125\n",
      "Epoch 9/50\n",
      "163/163 [==============================] - 1s 6ms/step - loss: 0.2156 - accuracy: 0.9187 - val_loss: 0.5550 - val_accuracy: 0.7500\n",
      "Epoch 10/50\n",
      "163/163 [==============================] - 3s 17ms/step - loss: 0.2437 - accuracy: 0.8963 - val_loss: 0.7481 - val_accuracy: 0.7500loss: 0.2453 \n",
      "Epoch 11/50\n",
      "163/163 [==============================] - 2s 12ms/step - loss: 0.2443 - accuracy: 0.9015 - val_loss: 0.2913 - val_accuracy: 0.9375\n",
      "Epoch 12/50\n",
      "163/163 [==============================] - 1s 9ms/step - loss: 0.2133 - accuracy: 0.9183 - val_loss: 0.4013 - val_accuracy: 0.8750\n",
      "Epoch 13/50\n",
      "163/163 [==============================] - 1s 8ms/step - loss: 0.2387 - accuracy: 0.8999 - val_loss: 0.2999 - val_accuracy: 0.9375\n",
      "Epoch 14/50\n",
      "163/163 [==============================] - 1s 6ms/step - loss: 0.2096 - accuracy: 0.9183 - val_loss: 0.4402 - val_accuracy: 0.8125\n",
      "Epoch 15/50\n",
      "163/163 [==============================] - 1s 6ms/step - loss: 0.2098 - accuracy: 0.9214 - val_loss: 0.4964 - val_accuracy: 0.8125\n",
      "Epoch 16/50\n",
      "163/163 [==============================] - 1s 7ms/step - loss: 0.2107 - accuracy: 0.9191 - val_loss: 0.2993 - val_accuracy: 0.9375\n",
      "Epoch 17/50\n",
      "163/163 [==============================] - 1s 7ms/step - loss: 0.2026 - accuracy: 0.9254 - val_loss: 0.2555 - val_accuracy: 0.9375\n",
      "Epoch 18/50\n",
      "163/163 [==============================] - 1s 7ms/step - loss: 0.2020 - accuracy: 0.9245 - val_loss: 0.2645 - val_accuracy: 0.9375\n",
      "Epoch 19/50\n",
      "163/163 [==============================] - 1s 6ms/step - loss: 0.1833 - accuracy: 0.9329 - val_loss: 0.6208 - val_accuracy: 0.6875\n",
      "Epoch 20/50\n",
      "163/163 [==============================] - 1s 6ms/step - loss: 0.1993 - accuracy: 0.9239 - val_loss: 0.2399 - val_accuracy: 0.9375\n",
      "Epoch 21/50\n",
      "163/163 [==============================] - 1s 6ms/step - loss: 0.1934 - accuracy: 0.9258 - val_loss: 0.2843 - val_accuracy: 0.9375\n",
      "Epoch 22/50\n",
      "163/163 [==============================] - 1s 6ms/step - loss: 0.2149 - accuracy: 0.9164 - val_loss: 0.2910 - val_accuracy: 0.9375\n",
      "Epoch 23/50\n",
      "163/163 [==============================] - 1s 7ms/step - loss: 0.1900 - accuracy: 0.9283 - val_loss: 0.3612 - val_accuracy: 0.8125\n",
      "Epoch 24/50\n",
      "163/163 [==============================] - 1s 6ms/step - loss: 0.2022 - accuracy: 0.9216 - val_loss: 0.3483 - val_accuracy: 0.8125\n",
      "Epoch 25/50\n",
      "163/163 [==============================] - 1s 7ms/step - loss: 0.1903 - accuracy: 0.9273 - val_loss: 0.3162 - val_accuracy: 0.8125\n",
      "Epoch 26/50\n",
      "163/163 [==============================] - 1s 7ms/step - loss: 0.1832 - accuracy: 0.9296 - val_loss: 0.2689 - val_accuracy: 0.9375\n",
      "Epoch 27/50\n",
      "163/163 [==============================] - 1s 5ms/step - loss: 0.1819 - accuracy: 0.9323 - val_loss: 0.2155 - val_accuracy: 0.9375\n",
      "Epoch 28/50\n",
      "163/163 [==============================] - 1s 6ms/step - loss: 0.2076 - accuracy: 0.9193 - val_loss: 0.4915 - val_accuracy: 0.7500\n",
      "Epoch 29/50\n",
      "163/163 [==============================] - 1s 6ms/step - loss: 0.1906 - accuracy: 0.9271 - val_loss: 0.3457 - val_accuracy: 0.8125\n",
      "Epoch 30/50\n",
      "163/163 [==============================] - 1s 6ms/step - loss: 0.1999 - accuracy: 0.9231 - val_loss: 0.4837 - val_accuracy: 0.7500\n",
      "Epoch 31/50\n",
      "163/163 [==============================] - 1s 5ms/step - loss: 0.1883 - accuracy: 0.9266 - val_loss: 0.3082 - val_accuracy: 0.9375\n",
      "Epoch 32/50\n",
      "163/163 [==============================] - 1s 5ms/step - loss: 0.1799 - accuracy: 0.9325 - val_loss: 0.7161 - val_accuracy: 0.6875\n",
      "Epoch 33/50\n",
      "163/163 [==============================] - 1s 6ms/step - loss: 0.1970 - accuracy: 0.9214 - val_loss: 0.2290 - val_accuracy: 0.9375\n",
      "Epoch 34/50\n",
      "163/163 [==============================] - 1s 6ms/step - loss: 0.1815 - accuracy: 0.9298 - val_loss: 0.3072 - val_accuracy: 0.9375\n",
      "Epoch 35/50\n",
      "163/163 [==============================] - 1s 6ms/step - loss: 0.1906 - accuracy: 0.9291 - val_loss: 0.3110 - val_accuracy: 0.8750\n",
      "Epoch 36/50\n",
      "163/163 [==============================] - 1s 7ms/step - loss: 0.1883 - accuracy: 0.9277 - val_loss: 0.2296 - val_accuracy: 0.9375\n",
      "Epoch 37/50\n",
      "163/163 [==============================] - 1s 6ms/step - loss: 0.1854 - accuracy: 0.9275 - val_loss: 0.3006 - val_accuracy: 0.9375\n",
      "Epoch 38/50\n",
      "163/163 [==============================] - 1s 7ms/step - loss: 0.1820 - accuracy: 0.9317 - val_loss: 0.5102 - val_accuracy: 0.7500\n",
      "Epoch 39/50\n",
      "163/163 [==============================] - 1s 6ms/step - loss: 0.1798 - accuracy: 0.9327 - val_loss: 0.2024 - val_accuracy: 0.9375\n",
      "Epoch 40/50\n",
      "163/163 [==============================] - 1s 6ms/step - loss: 0.2022 - accuracy: 0.9237 - val_loss: 0.4161 - val_accuracy: 0.8125\n",
      "Epoch 41/50\n",
      "163/163 [==============================] - 1s 6ms/step - loss: 0.1873 - accuracy: 0.9287 - val_loss: 0.4095 - val_accuracy: 0.7500\n",
      "Epoch 42/50\n",
      "163/163 [==============================] - 1s 7ms/step - loss: 0.1802 - accuracy: 0.9327 - val_loss: 0.2185 - val_accuracy: 0.9375\n",
      "Epoch 43/50\n",
      "163/163 [==============================] - 1s 8ms/step - loss: 0.1955 - accuracy: 0.9245 - val_loss: 0.2357 - val_accuracy: 0.9375\n",
      "Epoch 44/50\n",
      "163/163 [==============================] - 1s 7ms/step - loss: 0.1856 - accuracy: 0.9277 - val_loss: 0.2546 - val_accuracy: 0.9375\n",
      "Epoch 45/50\n",
      "163/163 [==============================] - 2s 12ms/step - loss: 0.1883 - accuracy: 0.9260 - val_loss: 0.2982 - val_accuracy: 0.9375\n",
      "Epoch 46/50\n",
      "163/163 [==============================] - 1s 9ms/step - loss: 0.1730 - accuracy: 0.9367 - val_loss: 0.2042 - val_accuracy: 0.9375\n",
      "Epoch 47/50\n",
      "163/163 [==============================] - ETA: 0s - loss: 0.1788 - accuracy: 0.93 - 1s 9ms/step - loss: 0.1797 - accuracy: 0.9331 - val_loss: 0.1994 - val_accuracy: 0.9375\n",
      "Epoch 48/50\n",
      "163/163 [==============================] - 1s 9ms/step - loss: 0.1764 - accuracy: 0.9314 - val_loss: 0.2835 - val_accuracy: 0.9375\n",
      "Epoch 49/50\n",
      "163/163 [==============================] - 1s 9ms/step - loss: 0.1760 - accuracy: 0.9323 - val_loss: 0.1968 - val_accuracy: 0.9375\n",
      "Epoch 50/50\n",
      "163/163 [==============================] - 1s 7ms/step - loss: 0.1678 - accuracy: 0.9371 - val_loss: 0.2784 - val_accuracy: 0.9375\n"
     ]
    }
   ],
   "source": [
    "baseline_model = create_model(optimizer = 'adam',\n",
    "                              neurons= 30,\n",
    "                              second_neurons= 20,\n",
    "                              third_neurons= 5,\n",
    "                              dropout = True,\n",
    "                              shape=12288)\n",
    "\n",
    "es = EarlyStopping(monitor='loss', mode = 'min', patience= 10, restore_best_weights = True)\n",
    "baseline_model_history = baseline_model.fit(train_img,\n",
    "                                            train_y,\n",
    "                                            epochs = 50,\n",
    "                                            callbacks = [es],\n",
    "                                            batch_size = 32,\n",
    "                                            validation_data = (val_img, val_y))"
   ]
  },
  {
   "cell_type": "code",
   "execution_count": 609,
   "metadata": {},
   "outputs": [
    {
     "name": "stdout",
     "output_type": "stream",
     "text": [
      "20/20 [==============================] - 0s 8ms/step - loss: 0.6166 - accuracy: 0.7756\n"
     ]
    },
    {
     "data": {
      "text/plain": [
       "[0.6166448593139648, 0.7756410241127014]"
      ]
     },
     "execution_count": 609,
     "metadata": {},
     "output_type": "execute_result"
    }
   ],
   "source": [
    "baseline_model.evaluate(test_img, test_y)"
   ]
  },
  {
   "cell_type": "markdown",
   "metadata": {},
   "source": [
    "The baseline model had an overall accuracy of 76% on the test case. Let's try to scale the data using the StandardScaler and use principal component analysis to reduce the dimensions of the dataset. We will try and capture 99% of the data with PCA. We will also include dropout set at 0.2 for each layer in the model."
   ]
  },
  {
   "cell_type": "code",
   "execution_count": 598,
   "metadata": {},
   "outputs": [],
   "source": [
    "scaler = StandardScaler()\n",
    "scaled_train_img = scaler.fit_transform(train_img)\n",
    "scaled_val_img = scaler.transform(val_img)\n",
    "\n",
    "pca = PCA(0.99)\n",
    "pca_transformed = pca.fit_transform(scaled_train_img)\n",
    "pca_val = pca.transform(scaled_val_img)"
   ]
  },
  {
   "cell_type": "code",
   "execution_count": 599,
   "metadata": {},
   "outputs": [],
   "source": [
    "scaled_test = scaler.transform(test_img)\n",
    "\n",
    "pca_test = pca.transform(scaled_test)"
   ]
  },
  {
   "cell_type": "code",
   "execution_count": 162,
   "metadata": {},
   "outputs": [
    {
     "data": {
      "text/plain": [
       "(16, 1806)"
      ]
     },
     "execution_count": 162,
     "metadata": {},
     "output_type": "execute_result"
    }
   ],
   "source": [
    "pca_val.shape"
   ]
  },
  {
   "cell_type": "code",
   "execution_count": 600,
   "metadata": {},
   "outputs": [
    {
     "name": "stdout",
     "output_type": "stream",
     "text": [
      "Epoch 1/50\n",
      "163/163 [==============================] - 1s 5ms/step - loss: 0.4856 - accuracy: 0.7809 - val_loss: 1.0342 - val_accuracy: 0.5625\n",
      "Epoch 2/50\n",
      "163/163 [==============================] - 0s 2ms/step - loss: 0.1779 - accuracy: 0.9141 - val_loss: 0.9073 - val_accuracy: 0.5625\n",
      "Epoch 3/50\n",
      "163/163 [==============================] - 0s 2ms/step - loss: 0.1101 - accuracy: 0.9521 - val_loss: 1.0466 - val_accuracy: 0.6250\n",
      "Epoch 4/50\n",
      "163/163 [==============================] - 0s 2ms/step - loss: 0.0673 - accuracy: 0.9688 - val_loss: 0.8649 - val_accuracy: 0.6875\n",
      "Epoch 5/50\n",
      "163/163 [==============================] - 0s 2ms/step - loss: 0.0396 - accuracy: 0.9845 - val_loss: 0.8948 - val_accuracy: 0.7500\n",
      "Epoch 6/50\n",
      "163/163 [==============================] - 0s 2ms/step - loss: 0.0270 - accuracy: 0.9893 - val_loss: 1.0753 - val_accuracy: 0.6875\n",
      "Epoch 7/50\n",
      "163/163 [==============================] - 0s 3ms/step - loss: 0.0203 - accuracy: 0.9931 - val_loss: 1.4597 - val_accuracy: 0.6875\n",
      "Epoch 8/50\n",
      "163/163 [==============================] - 0s 3ms/step - loss: 0.0208 - accuracy: 0.9921 - val_loss: 1.0713 - val_accuracy: 0.7500\n",
      "Epoch 9/50\n",
      "163/163 [==============================] - 1s 4ms/step - loss: 0.0224 - accuracy: 0.9910 - val_loss: 1.4244 - val_accuracy: 0.7500\n",
      "Epoch 10/50\n",
      "163/163 [==============================] - 0s 3ms/step - loss: 0.0102 - accuracy: 0.9975 - val_loss: 1.2918 - val_accuracy: 0.7500\n",
      "Epoch 11/50\n",
      "163/163 [==============================] - 1s 3ms/step - loss: 0.0106 - accuracy: 0.9964 - val_loss: 1.8399 - val_accuracy: 0.7500\n",
      "Epoch 12/50\n",
      "163/163 [==============================] - 0s 3ms/step - loss: 0.0106 - accuracy: 0.9965 - val_loss: 1.3203 - val_accuracy: 0.7500\n",
      "Epoch 13/50\n",
      "163/163 [==============================] - 1s 3ms/step - loss: 0.0096 - accuracy: 0.9965 - val_loss: 1.7232 - val_accuracy: 0.7500\n",
      "Epoch 14/50\n",
      "163/163 [==============================] - 1s 3ms/step - loss: 0.0101 - accuracy: 0.9962 - val_loss: 2.2109 - val_accuracy: 0.7500\n",
      "Epoch 15/50\n",
      "163/163 [==============================] - 1s 3ms/step - loss: 0.0079 - accuracy: 0.9967 - val_loss: 1.8459 - val_accuracy: 0.8125\n",
      "Epoch 16/50\n",
      "163/163 [==============================] - 0s 3ms/step - loss: 0.0079 - accuracy: 0.9969 - val_loss: 2.1930 - val_accuracy: 0.6875\n",
      "Epoch 17/50\n",
      "163/163 [==============================] - 0s 3ms/step - loss: 0.0079 - accuracy: 0.9975 - val_loss: 1.7409 - val_accuracy: 0.7500\n",
      "Epoch 18/50\n",
      "163/163 [==============================] - 0s 3ms/step - loss: 0.0033 - accuracy: 0.9987 - val_loss: 1.6333 - val_accuracy: 0.6875\n",
      "Epoch 19/50\n",
      "163/163 [==============================] - 1s 3ms/step - loss: 0.0035 - accuracy: 0.9990 - val_loss: 2.4539 - val_accuracy: 0.6875\n",
      "Epoch 20/50\n",
      "163/163 [==============================] - 1s 3ms/step - loss: 0.0089 - accuracy: 0.9975 - val_loss: 3.0364 - val_accuracy: 0.6250\n",
      "Epoch 21/50\n",
      "163/163 [==============================] - 1s 3ms/step - loss: 0.0068 - accuracy: 0.9979 - val_loss: 2.5677 - val_accuracy: 0.6250\n",
      "Epoch 22/50\n",
      "163/163 [==============================] - 1s 3ms/step - loss: 0.0047 - accuracy: 0.9979 - val_loss: 2.3552 - val_accuracy: 0.6875\n",
      "Epoch 23/50\n",
      "163/163 [==============================] - 1s 3ms/step - loss: 0.0084 - accuracy: 0.9975 - val_loss: 2.3588 - val_accuracy: 0.6875\n",
      "Epoch 24/50\n",
      "163/163 [==============================] - 1s 3ms/step - loss: 0.0099 - accuracy: 0.9962 - val_loss: 2.4234 - val_accuracy: 0.6875\n",
      "Epoch 25/50\n",
      "163/163 [==============================] - 0s 3ms/step - loss: 0.0103 - accuracy: 0.9971 - val_loss: 2.1416 - val_accuracy: 0.7500\n",
      "Epoch 26/50\n",
      "163/163 [==============================] - 0s 3ms/step - loss: 0.0101 - accuracy: 0.9975 - val_loss: 1.5669 - val_accuracy: 0.7500\n",
      "Epoch 27/50\n",
      "163/163 [==============================] - 0s 3ms/step - loss: 0.0043 - accuracy: 0.9987 - val_loss: 2.2916 - val_accuracy: 0.6875\n",
      "Epoch 28/50\n",
      "163/163 [==============================] - 0s 3ms/step - loss: 0.0074 - accuracy: 0.9979 - val_loss: 2.1298 - val_accuracy: 0.6250\n"
     ]
    }
   ],
   "source": [
    "baseline = create_model(optimizer = 'adam', neurons = 30, \n",
    "                        second_neurons=20, third_neurons= 1,\n",
    "                        dropout = True, shape = 1806)\n",
    "\n",
    "baseline_history = baseline.fit(pca_transformed, \n",
    "                                train_y, \n",
    "                                epochs = 50,\n",
    "                                class_weight = {0:class_weights[0],\n",
    "                                                1:class_weights[1] },\n",
    "                                batch_size = 32, \n",
    "                                callbacks = [es],\n",
    "                                validation_data = (pca_val, val_y))"
   ]
  },
  {
   "cell_type": "code",
   "execution_count": 601,
   "metadata": {},
   "outputs": [
    {
     "name": "stdout",
     "output_type": "stream",
     "text": [
      "20/20 [==============================] - 0s 4ms/step - loss: 3.0158 - accuracy: 0.7404\n"
     ]
    },
    {
     "data": {
      "text/plain": [
       "[3.0158097743988037, 0.7403846383094788]"
      ]
     },
     "execution_count": 601,
     "metadata": {},
     "output_type": "execute_result"
    }
   ],
   "source": [
    "baseline.evaluate(pca_test, test_y)"
   ]
  },
  {
   "cell_type": "markdown",
   "metadata": {},
   "source": [
    "Not much of an improvement. "
   ]
  },
  {
   "cell_type": "markdown",
   "metadata": {},
   "source": [
    "# Build a CNN Model\n",
    "\n",
    "Now let's build a CNN. For image recognition, convolutional neural networks work much better than densely connected layers. Running a gridsearch on a CNN can take a very long time. So it is important to be wise in selecting the amount of neurons and how many layers you have on the model. "
   ]
  },
  {
   "cell_type": "code",
   "execution_count": 447,
   "metadata": {},
   "outputs": [],
   "source": [
    "from keras.callbacks import EarlyStopping\n",
    "\n",
    "def create_cnn_model(first = 16, \n",
    "                     second = 32,\n",
    "                     third = 64, \n",
    "                     dropout = True, \n",
    "                     optimizer = \"sgd\",\n",
    "                     ):\n",
    "    \n",
    "    model = Sequential()\n",
    "    model.add(layers.Conv2D(first, (3,3), activation = 'relu', input_shape = (64,64,3)))\n",
    "    model.add(layers.MaxPooling2D((2,2)))\n",
    "        \n",
    "    model.add(layers.Conv2D(second, (3,3), activation = 'relu'))\n",
    "    model.add(layers.MaxPooling2D((2,2)))\n",
    "    \n",
    "    model.add(layers.Conv2D(third, (3,3), activation = 'relu'))\n",
    "    model.add(layers.MaxPooling2D((2,2)))\n",
    "   \n",
    "    \n",
    "    model.add(layers.Flatten())\n",
    "    model.add(layers.Dense(128, activation = 'relu')) \n",
    "    if dropout == True:\n",
    "        model.add(layers.Dropout(0.2))\n",
    "    model.add(layers.Dense(1, activation = 'sigmoid'))\n",
    "        \n",
    "    model.compile(loss = 'binary_crossentropy',\n",
    "                  optimizer = optimizer,\n",
    "                  metrics = ['acc'])\n",
    "    \n",
    "    return model\n"
   ]
  },
  {
   "cell_type": "code",
   "execution_count": 20,
   "metadata": {},
   "outputs": [
    {
     "name": "stdout",
     "output_type": "stream",
     "text": [
      "Epoch 1/100\n",
      "163/163 [==============================] - 24s 149ms/step - loss: 0.5736 - acc: 0.7360 - val_loss: 0.7504 - val_acc: 0.5000\n",
      "Epoch 2/100\n",
      "163/163 [==============================] - 24s 145ms/step - loss: 0.5177 - acc: 0.7529 - val_loss: 0.7871 - val_acc: 0.5000\n",
      "Epoch 3/100\n",
      "163/163 [==============================] - 25s 151ms/step - loss: 0.4289 - acc: 0.8023 - val_loss: 0.8107 - val_acc: 0.5625\n",
      "Epoch 4/100\n",
      "163/163 [==============================] - 25s 151ms/step - loss: 0.3289 - acc: 0.8597 - val_loss: 0.8818 - val_acc: 0.6250\n",
      "Epoch 5/100\n",
      "163/163 [==============================] - 27s 168ms/step - loss: 0.2562 - acc: 0.8892 - val_loss: 0.5510 - val_acc: 0.5625\n",
      "Epoch 6/100\n",
      "163/163 [==============================] - 28s 169ms/step - loss: 0.2224 - acc: 0.9105 - val_loss: 0.4612 - val_acc: 0.7500\n",
      "Epoch 7/100\n",
      "163/163 [==============================] - 26s 157ms/step - loss: 0.1938 - acc: 0.9231 - val_loss: 0.3582 - val_acc: 0.8750\n",
      "Epoch 8/100\n",
      "163/163 [==============================] - 26s 160ms/step - loss: 0.1871 - acc: 0.9273 - val_loss: 0.4876 - val_acc: 0.7500\n",
      "Epoch 9/100\n",
      "163/163 [==============================] - 26s 158ms/step - loss: 0.1744 - acc: 0.9296 - val_loss: 0.3339 - val_acc: 0.9375\n",
      "Epoch 10/100\n",
      "163/163 [==============================] - 23s 142ms/step - loss: 0.1721 - acc: 0.9293 - val_loss: 0.4022 - val_acc: 0.7500\n",
      "Epoch 11/100\n",
      "163/163 [==============================] - 23s 141ms/step - loss: 0.1607 - acc: 0.9383 - val_loss: 0.3202 - val_acc: 0.8750\n",
      "Epoch 12/100\n",
      "163/163 [==============================] - 25s 150ms/step - loss: 0.1642 - acc: 0.9381 - val_loss: 0.3890 - val_acc: 0.7500\n",
      "Epoch 13/100\n",
      "163/163 [==============================] - 27s 165ms/step - loss: 0.1565 - acc: 0.9360 - val_loss: 0.3405 - val_acc: 0.8750\n",
      "Epoch 14/100\n",
      "163/163 [==============================] - 27s 167ms/step - loss: 0.1494 - acc: 0.9419 - val_loss: 0.3242 - val_acc: 0.9375\n",
      "Epoch 15/100\n",
      "163/163 [==============================] - 28s 169ms/step - loss: 0.1510 - acc: 0.9394 - val_loss: 0.4881 - val_acc: 0.6875\n",
      "Epoch 16/100\n",
      "163/163 [==============================] - 25s 154ms/step - loss: 0.1493 - acc: 0.9408 - val_loss: 0.3226 - val_acc: 0.8750\n",
      "Epoch 17/100\n",
      "163/163 [==============================] - 25s 152ms/step - loss: 0.1397 - acc: 0.9457 - val_loss: 0.3170 - val_acc: 0.8125\n",
      "Epoch 18/100\n",
      "163/163 [==============================] - 25s 151ms/step - loss: 0.1354 - acc: 0.9454 - val_loss: 0.2958 - val_acc: 0.9375\n",
      "Epoch 19/100\n",
      "163/163 [==============================] - 24s 148ms/step - loss: 0.1309 - acc: 0.9473 - val_loss: 0.3245 - val_acc: 0.8125\n",
      "Epoch 20/100\n",
      "163/163 [==============================] - 25s 151ms/step - loss: 0.1387 - acc: 0.9477 - val_loss: 0.2715 - val_acc: 0.8750\n",
      "Epoch 21/100\n",
      "163/163 [==============================] - 25s 150ms/step - loss: 0.1318 - acc: 0.9482 - val_loss: 0.4025 - val_acc: 0.7500\n",
      "Epoch 22/100\n",
      "163/163 [==============================] - 24s 150ms/step - loss: 0.1275 - acc: 0.9500 - val_loss: 0.2994 - val_acc: 0.8125\n",
      "Epoch 23/100\n",
      "163/163 [==============================] - 24s 150ms/step - loss: 0.1274 - acc: 0.9503 - val_loss: 0.2586 - val_acc: 0.9375\n",
      "Epoch 24/100\n",
      "163/163 [==============================] - 25s 151ms/step - loss: 0.1228 - acc: 0.9509 - val_loss: 0.2633 - val_acc: 0.8750\n",
      "Epoch 25/100\n",
      "163/163 [==============================] - 24s 149ms/step - loss: 0.1245 - acc: 0.9551 - val_loss: 0.2518 - val_acc: 0.9375\n",
      "Epoch 26/100\n",
      "163/163 [==============================] - 24s 148ms/step - loss: 0.1214 - acc: 0.9507 - val_loss: 0.2518 - val_acc: 0.9375\n",
      "Epoch 27/100\n",
      "163/163 [==============================] - 25s 151ms/step - loss: 0.1192 - acc: 0.9532 - val_loss: 0.3291 - val_acc: 0.6875\n",
      "Epoch 28/100\n",
      "163/163 [==============================] - 25s 151ms/step - loss: 0.1187 - acc: 0.9569 - val_loss: 0.2546 - val_acc: 0.9375\n",
      "Epoch 29/100\n",
      "163/163 [==============================] - 25s 151ms/step - loss: 0.1132 - acc: 0.9572 - val_loss: 0.2753 - val_acc: 0.9375\n",
      "Epoch 30/100\n",
      "163/163 [==============================] - 25s 151ms/step - loss: 0.1079 - acc: 0.9594 - val_loss: 0.2543 - val_acc: 0.9375\n",
      "Epoch 31/100\n",
      "163/163 [==============================] - 25s 152ms/step - loss: 0.1147 - acc: 0.9571 - val_loss: 0.2590 - val_acc: 0.8750\n",
      "Epoch 32/100\n",
      "163/163 [==============================] - 25s 151ms/step - loss: 0.1098 - acc: 0.9594 - val_loss: 0.2368 - val_acc: 1.0000\n",
      "Epoch 33/100\n",
      "163/163 [==============================] - 24s 150ms/step - loss: 0.1089 - acc: 0.9607 - val_loss: 0.2329 - val_acc: 0.9375\n",
      "Epoch 34/100\n",
      "163/163 [==============================] - 24s 150ms/step - loss: 0.1115 - acc: 0.9599 - val_loss: 0.2322 - val_acc: 0.9375\n"
     ]
    }
   ],
   "source": [
    "model = create_cnn_model()\n",
    "es = EarlyStopping(monitor='loss', mode = 'min', patience= 4, restore_best_weights = True)\n",
    "history = model.fit(train_images,\n",
    "                    train_y,\n",
    "                    epochs = 100,\n",
    "                    batch_size = 32,\n",
    "                    callbacks = [es],\n",
    "                    validation_data = (val_images, val_y))"
   ]
  },
  {
   "cell_type": "code",
   "execution_count": 22,
   "metadata": {},
   "outputs": [
    {
     "name": "stdout",
     "output_type": "stream",
     "text": [
      "20/20 [==============================] - 1s 31ms/step - loss: 0.5212 - acc: 0.7837\n"
     ]
    },
    {
     "data": {
      "text/plain": [
       "[0.5212469696998596, 0.7836538553237915]"
      ]
     },
     "execution_count": 22,
     "metadata": {},
     "output_type": "execute_result"
    }
   ],
   "source": [
    "model.evaluate(test_images, test_y)"
   ]
  },
  {
   "cell_type": "markdown",
   "metadata": {},
   "source": [
    "Just a bit better than our previous model. The CNN model is 78% accurate on identifying the test case. This is a great improvement on the previous model which only had about a 79% accuracy. Early stopping was used to to prevent overfitting to the training set. "
   ]
  },
  {
   "cell_type": "code",
   "execution_count": 23,
   "metadata": {},
   "outputs": [
    {
     "name": "stdout",
     "output_type": "stream",
     "text": [
      "Epoch 1/100\n",
      "163/163 [==============================] - 125s 764ms/step - loss: 0.4901 - acc: 0.7780 - val_loss: 0.6028 - val_acc: 0.6875\n",
      "Epoch 2/100\n",
      "163/163 [==============================] - 124s 762ms/step - loss: 0.3026 - acc: 0.8664 - val_loss: 0.6420 - val_acc: 0.7500\n",
      "Epoch 3/100\n",
      "163/163 [==============================] - 146s 898ms/step - loss: 0.2644 - acc: 0.8792 - val_loss: 0.6014 - val_acc: 0.6875\n",
      "Epoch 4/100\n",
      "163/163 [==============================] - 127s 782ms/step - loss: 0.2348 - acc: 0.9001 - val_loss: 1.0037 - val_acc: 0.5625\n",
      "Epoch 5/100\n",
      "163/163 [==============================] - 111s 683ms/step - loss: 0.2285 - acc: 0.9016 - val_loss: 0.7684 - val_acc: 0.6250\n",
      "Epoch 6/100\n",
      "163/163 [==============================] - 102s 623ms/step - loss: 0.2095 - acc: 0.9145 - val_loss: 0.5464 - val_acc: 0.7500\n",
      "Epoch 7/100\n",
      "163/163 [==============================] - 104s 638ms/step - loss: 0.2012 - acc: 0.9181 - val_loss: 0.4597 - val_acc: 0.6875\n",
      "Epoch 8/100\n",
      "163/163 [==============================] - 108s 662ms/step - loss: 0.2028 - acc: 0.9149 - val_loss: 0.9286 - val_acc: 0.6250\n",
      "Epoch 9/100\n",
      "163/163 [==============================] - 106s 650ms/step - loss: 0.1884 - acc: 0.9220 - val_loss: 0.9730 - val_acc: 0.5625\n",
      "Epoch 10/100\n",
      "163/163 [==============================] - 108s 662ms/step - loss: 0.1725 - acc: 0.9316 - val_loss: 0.5714 - val_acc: 0.6250\n",
      "Epoch 11/100\n",
      "163/163 [==============================] - 108s 660ms/step - loss: 0.1554 - acc: 0.9383 - val_loss: 0.3466 - val_acc: 0.8750\n",
      "Epoch 12/100\n",
      "163/163 [==============================] - 106s 648ms/step - loss: 0.1564 - acc: 0.9367 - val_loss: 0.2065 - val_acc: 0.8750\n",
      "Epoch 13/100\n",
      "163/163 [==============================] - 100s 613ms/step - loss: 0.1394 - acc: 0.9452 - val_loss: 0.3684 - val_acc: 0.7500\n",
      "Epoch 14/100\n",
      "163/163 [==============================] - 93s 572ms/step - loss: 0.1493 - acc: 0.9438 - val_loss: 0.3405 - val_acc: 0.8125\n",
      "Epoch 15/100\n",
      "163/163 [==============================] - 93s 569ms/step - loss: 0.1412 - acc: 0.9431 - val_loss: 0.5432 - val_acc: 0.6875\n",
      "Epoch 16/100\n",
      "163/163 [==============================] - 92s 566ms/step - loss: 0.1465 - acc: 0.9438 - val_loss: 0.2356 - val_acc: 0.9375\n",
      "Epoch 17/100\n",
      "163/163 [==============================] - 104s 637ms/step - loss: 0.1368 - acc: 0.9482 - val_loss: 0.3762 - val_acc: 0.8125\n",
      "Epoch 18/100\n",
      "163/163 [==============================] - 106s 651ms/step - loss: 0.1228 - acc: 0.9480 - val_loss: 1.0366 - val_acc: 0.6250\n",
      "Epoch 19/100\n",
      "163/163 [==============================] - 106s 652ms/step - loss: 0.1362 - acc: 0.9408 - val_loss: 0.3696 - val_acc: 0.8750\n",
      "Epoch 20/100\n",
      "163/163 [==============================] - 108s 660ms/step - loss: 0.1271 - acc: 0.9498 - val_loss: 0.4982 - val_acc: 0.6875\n",
      "Epoch 21/100\n",
      "163/163 [==============================] - 106s 650ms/step - loss: 0.1214 - acc: 0.9525 - val_loss: 0.3330 - val_acc: 0.8125\n",
      "Epoch 22/100\n",
      "163/163 [==============================] - 102s 629ms/step - loss: 0.1263 - acc: 0.9479 - val_loss: 1.0090 - val_acc: 0.6250\n",
      "Epoch 23/100\n",
      "163/163 [==============================] - 97s 592ms/step - loss: 0.1166 - acc: 0.9549 - val_loss: 0.3676 - val_acc: 0.8750\n",
      "Epoch 24/100\n",
      "163/163 [==============================] - 107s 658ms/step - loss: 0.1186 - acc: 0.9542 - val_loss: 0.6856 - val_acc: 0.7500\n",
      "Epoch 25/100\n",
      "163/163 [==============================] - 110s 675ms/step - loss: 0.1245 - acc: 0.9523 - val_loss: 0.2989 - val_acc: 0.8750\n",
      "Epoch 26/100\n",
      "163/163 [==============================] - 94s 577ms/step - loss: 0.1213 - acc: 0.9567 - val_loss: 0.4108 - val_acc: 0.8750\n",
      "Epoch 27/100\n",
      "163/163 [==============================] - 99s 607ms/step - loss: 0.1157 - acc: 0.9571 - val_loss: 0.6734 - val_acc: 0.7500\n",
      "Epoch 28/100\n",
      "163/163 [==============================] - 119s 730ms/step - loss: 0.1116 - acc: 0.9586 - val_loss: 0.7637 - val_acc: 0.6875\n",
      "Epoch 29/100\n",
      "163/163 [==============================] - 148s 910ms/step - loss: 0.1151 - acc: 0.9578 - val_loss: 0.6489 - val_acc: 0.7500\n",
      "Epoch 30/100\n",
      "163/163 [==============================] - 140s 856ms/step - loss: 0.1126 - acc: 0.9572 - val_loss: 1.1898 - val_acc: 0.6250\n",
      "Epoch 31/100\n",
      "163/163 [==============================] - 119s 732ms/step - loss: 0.1252 - acc: 0.9519 - val_loss: 0.3032 - val_acc: 0.9375\n",
      "Epoch 32/100\n",
      "163/163 [==============================] - 118s 722ms/step - loss: 0.1053 - acc: 0.9595 - val_loss: 0.4240 - val_acc: 0.8125\n",
      "Epoch 33/100\n",
      "163/163 [==============================] - 134s 819ms/step - loss: 0.1089 - acc: 0.9578 - val_loss: 0.8391 - val_acc: 0.6875\n",
      "Epoch 34/100\n",
      "163/163 [==============================] - 133s 817ms/step - loss: 0.1041 - acc: 0.9615 - val_loss: 0.5155 - val_acc: 0.8125\n",
      "Epoch 35/100\n",
      "163/163 [==============================] - 136s 832ms/step - loss: 0.0987 - acc: 0.9628 - val_loss: 0.5385 - val_acc: 0.7500\n",
      "Epoch 36/100\n",
      "163/163 [==============================] - 136s 836ms/step - loss: 0.0999 - acc: 0.9632 - val_loss: 0.3395 - val_acc: 0.8750\n",
      "Epoch 37/100\n",
      "163/163 [==============================] - 139s 850ms/step - loss: 0.1122 - acc: 0.9567 - val_loss: 0.7026 - val_acc: 0.7500\n",
      "Epoch 38/100\n",
      "163/163 [==============================] - 133s 817ms/step - loss: 0.0931 - acc: 0.9618 - val_loss: 0.4597 - val_acc: 0.8125\n",
      "Epoch 39/100\n",
      "163/163 [==============================] - 119s 732ms/step - loss: 0.1030 - acc: 0.9643 - val_loss: 0.2847 - val_acc: 0.8750\n",
      "Epoch 40/100\n",
      "163/163 [==============================] - 120s 735ms/step - loss: 0.0939 - acc: 0.9632 - val_loss: 0.4662 - val_acc: 0.8125\n",
      "Epoch 41/100\n",
      "163/163 [==============================] - 122s 746ms/step - loss: 0.0998 - acc: 0.9620 - val_loss: 0.6113 - val_acc: 0.7500\n",
      "Epoch 42/100\n",
      "163/163 [==============================] - 117s 720ms/step - loss: 0.1022 - acc: 0.9613 - val_loss: 0.8015 - val_acc: 0.6250\n",
      "Epoch 43/100\n",
      "163/163 [==============================] - 118s 725ms/step - loss: 0.1020 - acc: 0.9594 - val_loss: 0.6501 - val_acc: 0.6875\n"
     ]
    }
   ],
   "source": [
    "model_2 = create_cnn_model(optimizer = 'adam')\n",
    "es = EarlyStopping(monitor='acc', mode = 'max', patience= 4, restore_best_weights = True)\n",
    "history = model_2.fit(train_generator,\n",
    "                    epochs = 100,\n",
    "                    batch_size = 32,\n",
    "                    callbacks = [es],\n",
    "                    validation_data = val_generator,\n",
    "                    validation_steps = 1)"
   ]
  },
  {
   "cell_type": "code",
   "execution_count": 21,
   "metadata": {},
   "outputs": [
    {
     "name": "stdout",
     "output_type": "stream",
     "text": [
      "1/1 [==============================] - 0s 995us/step - loss: 0.5408 - acc: 0.8365\n"
     ]
    },
    {
     "data": {
      "text/plain": [
       "[0.540833592414856, 0.8365384340286255]"
      ]
     },
     "execution_count": 21,
     "metadata": {},
     "output_type": "execute_result"
    }
   ],
   "source": [
    "model_2.evaluate(test_generator)"
   ]
  },
  {
   "cell_type": "code",
   "execution_count": 25,
   "metadata": {},
   "outputs": [
    {
     "name": "stdout",
     "output_type": "stream",
     "text": [
      "Epoch 1/100\n",
      "163/163 [==============================] - 119s 728ms/step - loss: 0.5418 - acc: 0.7456 - val_loss: 0.6011 - val_acc: 0.5000\n",
      "Epoch 2/100\n",
      "163/163 [==============================] - 123s 754ms/step - loss: 0.4109 - acc: 0.8073 - val_loss: 1.1414 - val_acc: 0.5000\n",
      "Epoch 3/100\n",
      "163/163 [==============================] - 105s 645ms/step - loss: 0.3252 - acc: 0.8579 - val_loss: 0.5435 - val_acc: 0.7500\n",
      "Epoch 4/100\n",
      "163/163 [==============================] - 105s 642ms/step - loss: 0.2868 - acc: 0.8758 - val_loss: 0.6740 - val_acc: 0.6250\n",
      "Epoch 5/100\n",
      "163/163 [==============================] - 104s 635ms/step - loss: 0.2431 - acc: 0.8992 - val_loss: 0.3149 - val_acc: 0.8125\n",
      "Epoch 6/100\n",
      "163/163 [==============================] - 103s 635ms/step - loss: 0.2192 - acc: 0.9066 - val_loss: 0.2666 - val_acc: 0.8750\n",
      "Epoch 7/100\n",
      "163/163 [==============================] - 104s 639ms/step - loss: 0.2087 - acc: 0.9160 - val_loss: 0.4085 - val_acc: 0.7500\n",
      "Epoch 8/100\n",
      "163/163 [==============================] - 104s 637ms/step - loss: 0.1908 - acc: 0.9202 - val_loss: 0.5381 - val_acc: 0.7500\n",
      "Epoch 9/100\n",
      "163/163 [==============================] - 103s 635ms/step - loss: 0.1802 - acc: 0.9308 - val_loss: 0.2068 - val_acc: 0.9375\n",
      "Epoch 10/100\n",
      "163/163 [==============================] - 103s 633ms/step - loss: 0.1722 - acc: 0.9354 - val_loss: 0.3468 - val_acc: 0.8750\n",
      "Epoch 11/100\n",
      "163/163 [==============================] - 107s 658ms/step - loss: 0.1729 - acc: 0.9310 - val_loss: 0.3098 - val_acc: 0.8125\n",
      "Epoch 12/100\n",
      "163/163 [==============================] - 105s 645ms/step - loss: 0.1669 - acc: 0.9321 - val_loss: 0.6875 - val_acc: 0.6875\n",
      "Epoch 13/100\n",
      "163/163 [==============================] - 105s 643ms/step - loss: 0.1569 - acc: 0.9404 - val_loss: 0.3195 - val_acc: 0.8125\n",
      "Epoch 14/100\n",
      "163/163 [==============================] - 104s 641ms/step - loss: 0.1565 - acc: 0.9390 - val_loss: 0.9638 - val_acc: 0.6250\n",
      "Epoch 15/100\n",
      "163/163 [==============================] - 105s 642ms/step - loss: 0.1439 - acc: 0.9461 - val_loss: 0.4933 - val_acc: 0.7500\n",
      "Epoch 16/100\n",
      "163/163 [==============================] - 104s 639ms/step - loss: 0.1553 - acc: 0.9415 - val_loss: 0.8294 - val_acc: 0.6875\n",
      "Epoch 17/100\n",
      "163/163 [==============================] - 104s 639ms/step - loss: 0.1487 - acc: 0.9434 - val_loss: 0.2858 - val_acc: 0.9375\n",
      "Epoch 18/100\n",
      "163/163 [==============================] - 106s 648ms/step - loss: 0.1497 - acc: 0.9465 - val_loss: 0.3032 - val_acc: 0.8750\n",
      "Epoch 19/100\n",
      "163/163 [==============================] - 104s 641ms/step - loss: 0.1484 - acc: 0.9442 - val_loss: 0.6271 - val_acc: 0.6875\n",
      "Epoch 20/100\n",
      "163/163 [==============================] - 107s 654ms/step - loss: 0.1321 - acc: 0.9492 - val_loss: 0.5924 - val_acc: 0.7500\n",
      "Epoch 21/100\n",
      "163/163 [==============================] - 105s 643ms/step - loss: 0.1416 - acc: 0.9488 - val_loss: 0.9839 - val_acc: 0.6250\n",
      "Epoch 22/100\n",
      "163/163 [==============================] - 104s 637ms/step - loss: 0.1274 - acc: 0.9509 - val_loss: 0.9265 - val_acc: 0.6875\n",
      "Epoch 23/100\n",
      "163/163 [==============================] - 102s 626ms/step - loss: 0.1343 - acc: 0.9517 - val_loss: 0.4454 - val_acc: 0.8125\n",
      "Epoch 24/100\n",
      "163/163 [==============================] - 104s 635ms/step - loss: 0.1349 - acc: 0.9500 - val_loss: 0.7672 - val_acc: 0.6875\n",
      "Epoch 25/100\n",
      "163/163 [==============================] - 102s 627ms/step - loss: 0.1329 - acc: 0.9492 - val_loss: 0.4046 - val_acc: 0.8125\n",
      "Epoch 26/100\n",
      "163/163 [==============================] - 103s 629ms/step - loss: 0.1319 - acc: 0.9511 - val_loss: 0.6496 - val_acc: 0.7500\n",
      "Epoch 27/100\n",
      "163/163 [==============================] - 103s 632ms/step - loss: 0.1255 - acc: 0.9544 - val_loss: 0.3664 - val_acc: 0.8125\n",
      "Epoch 28/100\n",
      "163/163 [==============================] - 104s 639ms/step - loss: 0.1286 - acc: 0.9536 - val_loss: 0.6887 - val_acc: 0.7500\n",
      "Epoch 29/100\n",
      "163/163 [==============================] - 105s 643ms/step - loss: 0.1389 - acc: 0.9502 - val_loss: 1.0686 - val_acc: 0.6250\n",
      "Epoch 30/100\n",
      "163/163 [==============================] - 104s 635ms/step - loss: 0.1330 - acc: 0.9505 - val_loss: 0.4700 - val_acc: 0.7500\n",
      "Epoch 31/100\n",
      "163/163 [==============================] - 104s 640ms/step - loss: 0.1262 - acc: 0.9536 - val_loss: 0.5341 - val_acc: 0.7500\n"
     ]
    },
    {
     "data": {
      "text/plain": [
       "<tensorflow.python.keras.callbacks.History at 0x1c0013a80c8>"
      ]
     },
     "execution_count": 25,
     "metadata": {},
     "output_type": "execute_result"
    }
   ],
   "source": [
    "model_3 = create_cnn_model(optimizer = 'rmsprop')\n",
    "\n",
    "model_3.fit(train_generator,\n",
    "            epochs = 100,\n",
    "            batch_size = 32,\n",
    "            callbacks = [es],\n",
    "            validation_data = val_generator,\n",
    "            validation_steps = 1)"
   ]
  },
  {
   "cell_type": "code",
   "execution_count": 33,
   "metadata": {},
   "outputs": [
    {
     "name": "stdout",
     "output_type": "stream",
     "text": [
      "1/1 [==============================] - 0s 998us/step - loss: 0.3630 - acc: 0.8910\n"
     ]
    },
    {
     "data": {
      "text/plain": [
       "[0.36295637488365173, 0.8910256624221802]"
      ]
     },
     "execution_count": 33,
     "metadata": {},
     "output_type": "execute_result"
    }
   ],
   "source": [
    "model_3.evaluate(test_generator)"
   ]
  },
  {
   "cell_type": "code",
   "execution_count": 16,
   "metadata": {},
   "outputs": [
    {
     "name": "stdout",
     "output_type": "stream",
     "text": [
      "Epoch 1/100\n",
      "163/163 [==============================] - 165s 1s/step - loss: 0.5081 - acc: 0.7617 - val_loss: 0.6090 - val_acc: 0.6250\n",
      "Epoch 2/100\n",
      "163/163 [==============================] - 140s 861ms/step - loss: 0.3450 - acc: 0.8495 - val_loss: 0.6652 - val_acc: 0.6250\n",
      "Epoch 3/100\n",
      "163/163 [==============================] - 79s 485ms/step - loss: 0.2899 - acc: 0.8717 - val_loss: 0.4798 - val_acc: 0.8125\n",
      "Epoch 4/100\n",
      "163/163 [==============================] - 79s 486ms/step - loss: 0.2609 - acc: 0.8892 - val_loss: 0.6305 - val_acc: 0.6875\n",
      "Epoch 5/100\n",
      "163/163 [==============================] - 79s 487ms/step - loss: 0.2437 - acc: 0.8965 - val_loss: 0.6673 - val_acc: 0.6875\n",
      "Epoch 6/100\n",
      "163/163 [==============================] - 80s 489ms/step - loss: 0.2205 - acc: 0.9093 - val_loss: 0.4020 - val_acc: 0.8125\n",
      "Epoch 7/100\n",
      "163/163 [==============================] - 80s 490ms/step - loss: 0.1988 - acc: 0.9176 - val_loss: 0.6614 - val_acc: 0.7500\n",
      "Epoch 8/100\n",
      "163/163 [==============================] - 79s 488ms/step - loss: 0.2000 - acc: 0.9193 - val_loss: 0.8004 - val_acc: 0.6875\n",
      "Epoch 9/100\n",
      "163/163 [==============================] - 80s 489ms/step - loss: 0.1864 - acc: 0.9260 - val_loss: 1.1958 - val_acc: 0.6250\n",
      "Epoch 10/100\n",
      "163/163 [==============================] - 80s 493ms/step - loss: 0.1713 - acc: 0.9308 - val_loss: 0.7738 - val_acc: 0.6250\n",
      "Epoch 11/100\n",
      "163/163 [==============================] - 80s 489ms/step - loss: 0.1751 - acc: 0.9310 - val_loss: 0.8928 - val_acc: 0.6250\n",
      "Epoch 12/100\n",
      "163/163 [==============================] - 80s 491ms/step - loss: 0.1628 - acc: 0.9327 - val_loss: 0.8118 - val_acc: 0.6875\n",
      "Epoch 13/100\n",
      "163/163 [==============================] - 80s 490ms/step - loss: 0.1571 - acc: 0.9381 - val_loss: 0.6142 - val_acc: 0.6250\n",
      "Epoch 14/100\n",
      "163/163 [==============================] - 80s 493ms/step - loss: 0.1598 - acc: 0.9377 - val_loss: 1.1984 - val_acc: 0.6250\n",
      "Epoch 15/100\n",
      "163/163 [==============================] - 81s 497ms/step - loss: 0.1564 - acc: 0.9383 - val_loss: 0.9006 - val_acc: 0.6250\n",
      "Epoch 16/100\n",
      "163/163 [==============================] - 79s 487ms/step - loss: 0.1451 - acc: 0.9438 - val_loss: 1.4074 - val_acc: 0.5625\n",
      "Epoch 17/100\n",
      "163/163 [==============================] - 80s 489ms/step - loss: 0.1475 - acc: 0.9421 - val_loss: 1.7509 - val_acc: 0.5625\n",
      "Epoch 18/100\n",
      "163/163 [==============================] - 80s 492ms/step - loss: 0.1440 - acc: 0.9425 - val_loss: 0.7712 - val_acc: 0.6250\n",
      "Epoch 19/100\n",
      "163/163 [==============================] - 80s 492ms/step - loss: 0.1455 - acc: 0.9450 - val_loss: 0.5997 - val_acc: 0.6875\n",
      "Epoch 20/100\n",
      "163/163 [==============================] - 79s 487ms/step - loss: 0.1315 - acc: 0.9456 - val_loss: 1.3966 - val_acc: 0.6250\n",
      "Epoch 21/100\n",
      "163/163 [==============================] - 80s 493ms/step - loss: 0.1345 - acc: 0.9477 - val_loss: 0.6596 - val_acc: 0.6875\n",
      "Epoch 22/100\n",
      "163/163 [==============================] - 80s 494ms/step - loss: 0.1346 - acc: 0.9475 - val_loss: 0.9526 - val_acc: 0.6875\n",
      "Epoch 23/100\n",
      "163/163 [==============================] - 80s 494ms/step - loss: 0.1343 - acc: 0.9511 - val_loss: 0.4973 - val_acc: 0.6875\n",
      "Epoch 24/100\n",
      "163/163 [==============================] - 80s 488ms/step - loss: 0.1294 - acc: 0.9528 - val_loss: 0.4769 - val_acc: 0.8125\n",
      "Epoch 25/100\n",
      "163/163 [==============================] - 81s 499ms/step - loss: 0.1194 - acc: 0.9532 - val_loss: 1.0287 - val_acc: 0.6250\n",
      "Epoch 26/100\n",
      "163/163 [==============================] - 1970s 12s/step - loss: 0.1300 - acc: 0.9526 - val_loss: 0.7786 - val_acc: 0.7500\n",
      "Epoch 27/100\n",
      "163/163 [==============================] - 113s 690ms/step - loss: 0.1204 - acc: 0.9528 - val_loss: 0.6817 - val_acc: 0.7500\n",
      "Epoch 28/100\n",
      "163/163 [==============================] - 140s 862ms/step - loss: 0.1200 - acc: 0.9523 - val_loss: 0.5502 - val_acc: 0.7500\n",
      "Epoch 29/100\n",
      "163/163 [==============================] - 141s 863ms/step - loss: 0.1207 - acc: 0.9538 - val_loss: 0.5946 - val_acc: 0.7500\n"
     ]
    }
   ],
   "source": [
    "model_4 = create_cnn_model(optimizer= 'adam')\n",
    "es = EarlyStopping(monitor='loss', mode = 'min', patience= 4, restore_best_weights = True)\n",
    "history = model_4.fit(train_generator,\n",
    "                    epochs = 100,\n",
    "                    batch_size = 32,\n",
    "                    validation_data = val_generator,\n",
    "                    callbacks = [es],\n",
    "                    validation_steps = 1)\n",
    "\n",
    "classification_report()"
   ]
  },
  {
   "cell_type": "code",
   "execution_count": 17,
   "metadata": {},
   "outputs": [
    {
     "name": "stdout",
     "output_type": "stream",
     "text": [
      "1/1 [==============================] - 0s 4ms/step - loss: 0.4734 - acc: 0.8702\n"
     ]
    },
    {
     "data": {
      "text/plain": [
       "[0.4734281897544861, 0.870192289352417]"
      ]
     },
     "execution_count": 17,
     "metadata": {},
     "output_type": "execute_result"
    }
   ],
   "source": [
    "model_4.evaluate(test_generator)"
   ]
  },
  {
   "cell_type": "markdown",
   "metadata": {},
   "source": [
    "# Data Augmentation\n",
    "\n",
    "Images can be augmentated to help a model generalize the training data. You can augment the image in many different ways such as rotation, width shift, height shift, shear, and zoom. "
   ]
  },
  {
   "cell_type": "code",
   "execution_count": 627,
   "metadata": {},
   "outputs": [
    {
     "name": "stdout",
     "output_type": "stream",
     "text": [
      "Found 624 images belonging to 2 classes.\n",
      "Found 16 images belonging to 2 classes.\n",
      "Found 5216 images belonging to 2 classes.\n"
     ]
    }
   ],
   "source": [
    "train_data_gen = ImageDataGenerator(rescale = 1./255,\n",
    "                                    rotation_range= 20,\n",
    "                                    width_shift_range= 0.2,\n",
    "                                    height_shift_range= 0.2,\n",
    "                                    shear_range= 0.3,\n",
    "                                    zoom_range= 0.3,\n",
    "                                    )\n",
    "\n",
    "test_generator = ImageDataGenerator(rescale = 1./255).flow_from_directory(test_dir,\n",
    "                                                                          target_size = (64,64),\n",
    "                                                                          batch_size = 624,\n",
    "                                                                          class_mode = 'binary')\n",
    "\n",
    "val_generator = ImageDataGenerator(rescale= 1./255).flow_from_directory(val_dir,\n",
    "                                                                       target_size = (64,64),\n",
    "                                                                       batch_size = 16,\n",
    "                                                                       class_mode = 'binary')\n",
    "train_generator = train_data_gen.flow_from_directory(train_dir,\n",
    "                                                     target_size = (64,64),\n",
    "                                                     batch_size = 5216,\n",
    "                                                     class_mode = 'binary')\n",
    "                                   "
   ]
  },
  {
   "cell_type": "code",
   "execution_count": 628,
   "metadata": {},
   "outputs": [],
   "source": [
    "train_img, train_labels = next(train_generator)\n",
    "val_img, val_labels = next(val_generator)\n",
    "test_img, test_labels = next(test_generator)"
   ]
  },
  {
   "cell_type": "code",
   "execution_count": 643,
   "metadata": {},
   "outputs": [],
   "source": [
    "model_4 = Sequential()\n",
    "model_4.add(layers.Conv2D(16, (3, 3), activation='relu',\n",
    "                        input_shape=(64 ,64,  3)))\n",
    "model_4.add(layers.MaxPooling2D((2, 2)))\n",
    "\n",
    "model_4.add(layers.Conv2D(32, (4, 4), activation='relu'))\n",
    "model_4.add(layers.MaxPooling2D((2, 2)))\n",
    "\n",
    "model_4.add(layers.Conv2D(64, (3, 3), activation='relu'))\n",
    "model_4.add(layers.MaxPooling2D((2, 2)))\n",
    "\n",
    "model_4.add(layers.Flatten())\n",
    "model_4.add(layers.Dense(128, activation='relu'))\n",
    "model_4.add(layers.Dropout(0.2))\n",
    "model_4.add(layers.Dense(1, activation='sigmoid'))\n",
    "\n",
    "model_4.compile(loss='binary_crossentropy',\n",
    "              optimizer= 'adam',\n",
    "              metrics=['acc'],\n",
    "            )"
   ]
  },
  {
   "cell_type": "code",
   "execution_count": 644,
   "metadata": {},
   "outputs": [
    {
     "name": "stdout",
     "output_type": "stream",
     "text": [
      "Epoch 1/30\n",
      "163/163 [==============================] - 22s 136ms/step - loss: 0.6207 - acc: 0.5815 - val_loss: 0.5343 - val_acc: 0.7500\n",
      "Epoch 2/30\n",
      "163/163 [==============================] - 19s 116ms/step - loss: 0.4237 - acc: 0.8094 - val_loss: 0.4430 - val_acc: 0.8125\n",
      "Epoch 3/30\n",
      "163/163 [==============================] - 19s 116ms/step - loss: 0.3234 - acc: 0.8512 - val_loss: 0.3694 - val_acc: 0.8125\n",
      "Epoch 4/30\n",
      "163/163 [==============================] - 19s 115ms/step - loss: 0.3078 - acc: 0.8583 - val_loss: 0.3426 - val_acc: 0.8125\n",
      "Epoch 5/30\n",
      "163/163 [==============================] - 19s 117ms/step - loss: 0.2573 - acc: 0.8882 - val_loss: 0.4147 - val_acc: 0.8125\n",
      "Epoch 6/30\n",
      "163/163 [==============================] - 19s 119ms/step - loss: 0.2352 - acc: 0.8955 - val_loss: 0.1810 - val_acc: 0.9375\n",
      "Epoch 7/30\n",
      "163/163 [==============================] - 20s 121ms/step - loss: 0.2106 - acc: 0.9076 - val_loss: 0.2555 - val_acc: 0.8750\n",
      "Epoch 8/30\n",
      "163/163 [==============================] - 20s 121ms/step - loss: 0.1724 - acc: 0.9271 - val_loss: 0.1721 - val_acc: 0.9375\n",
      "Epoch 9/30\n",
      "163/163 [==============================] - 19s 116ms/step - loss: 0.1492 - acc: 0.9375 - val_loss: 0.1717 - val_acc: 1.0000\n",
      "Epoch 10/30\n",
      "163/163 [==============================] - 19s 118ms/step - loss: 0.1311 - acc: 0.9469 - val_loss: 0.1419 - val_acc: 1.0000\n",
      "Epoch 11/30\n",
      "163/163 [==============================] - 19s 114ms/step - loss: 0.1122 - acc: 0.9546 - val_loss: 0.2328 - val_acc: 0.8125\n",
      "Epoch 12/30\n",
      "163/163 [==============================] - 19s 117ms/step - loss: 0.1080 - acc: 0.9548 - val_loss: 0.1222 - val_acc: 0.9375\n",
      "Epoch 13/30\n",
      "163/163 [==============================] - 19s 116ms/step - loss: 0.1007 - acc: 0.9572 - val_loss: 0.2371 - val_acc: 0.8750\n",
      "Epoch 14/30\n",
      "163/163 [==============================] - 19s 118ms/step - loss: 0.0679 - acc: 0.9747 - val_loss: 0.1061 - val_acc: 0.9375\n",
      "Epoch 15/30\n",
      "163/163 [==============================] - 19s 118ms/step - loss: 0.0709 - acc: 0.9720 - val_loss: 0.1416 - val_acc: 0.9375\n",
      "Epoch 16/30\n",
      "163/163 [==============================] - 20s 120ms/step - loss: 0.0687 - acc: 0.9722 - val_loss: 0.1638 - val_acc: 0.8750\n",
      "Epoch 17/30\n",
      "163/163 [==============================] - 19s 118ms/step - loss: 0.0500 - acc: 0.9814 - val_loss: 0.0425 - val_acc: 1.0000\n",
      "Epoch 18/30\n",
      "163/163 [==============================] - 18s 108ms/step - loss: 0.0274 - acc: 0.9900 - val_loss: 0.1096 - val_acc: 0.9375\n",
      "Epoch 19/30\n",
      "163/163 [==============================] - 18s 109ms/step - loss: 0.0295 - acc: 0.9893 - val_loss: 0.1109 - val_acc: 0.9375\n",
      "Epoch 20/30\n",
      "163/163 [==============================] - 18s 108ms/step - loss: 0.0275 - acc: 0.9895 - val_loss: 0.2225 - val_acc: 0.8750\n",
      "Epoch 21/30\n",
      "163/163 [==============================] - 18s 111ms/step - loss: 0.0316 - acc: 0.9873 - val_loss: 0.1185 - val_acc: 0.9375\n",
      "Epoch 22/30\n",
      "163/163 [==============================] - 18s 110ms/step - loss: 0.0129 - acc: 0.9965 - val_loss: 0.3585 - val_acc: 0.8750\n",
      "Epoch 23/30\n",
      "163/163 [==============================] - 18s 111ms/step - loss: 0.0112 - acc: 0.9964 - val_loss: 0.2639 - val_acc: 0.9375\n",
      "Epoch 24/30\n",
      "163/163 [==============================] - 18s 109ms/step - loss: 0.0150 - acc: 0.9946 - val_loss: 0.2312 - val_acc: 0.9375\n",
      "Epoch 25/30\n",
      "163/163 [==============================] - 18s 110ms/step - loss: 0.0050 - acc: 0.9990 - val_loss: 0.0946 - val_acc: 0.9375\n",
      "Epoch 26/30\n",
      "163/163 [==============================] - 18s 110ms/step - loss: 0.0013 - acc: 1.0000 - val_loss: 0.4146 - val_acc: 0.9375\n",
      "Epoch 27/30\n",
      "163/163 [==============================] - 18s 110ms/step - loss: 0.0022 - acc: 0.9998 - val_loss: 0.3308 - val_acc: 0.9375\n"
     ]
    }
   ],
   "source": [
    "es = EarlyStopping(monitor='val_loss', mode = 'min', patience= 10, restore_best_weights = False)\n",
    "history_4 = model_4.fit(train_img, train_labels, \n",
    "                        epochs=30, \n",
    "                        validation_data=(val_img,val_labels),\n",
    "                        class_weight={0:class_weights[0], 1:class_weights[1]},\n",
    "                        \n",
    "                        callbacks = [es])"
   ]
  },
  {
   "cell_type": "code",
   "execution_count": 646,
   "metadata": {},
   "outputs": [
    {
     "name": "stdout",
     "output_type": "stream",
     "text": [
      "20/20 [==============================] - 2s 104ms/step - loss: 0.4896 - acc: 0.9231\n"
     ]
    },
    {
     "data": {
      "text/plain": [
       "[0.48962265253067017, 0.9230769276618958]"
      ]
     },
     "execution_count": 646,
     "metadata": {},
     "output_type": "execute_result"
    }
   ],
   "source": [
    "model_4.evaluate(test_img, test_labels)"
   ]
  },
  {
   "cell_type": "code",
   "execution_count": 354,
   "metadata": {},
   "outputs": [
    {
     "name": "stdout",
     "output_type": "stream",
     "text": [
      "Found 5216 images belonging to 2 classes.\n",
      "Found 5216 images belonging to 2 classes.\n",
      "Found 5216 images belonging to 2 classes.\n",
      "Found 5216 images belonging to 2 classes.\n",
      "Found 5216 images belonging to 2 classes.\n",
      "Found 5216 images belonging to 2 classes.\n",
      "Found 5216 images belonging to 2 classes.\n",
      "Found 5216 images belonging to 2 classes.\n"
     ]
    }
   ],
   "source": [
    "#nitialize empty arrays \n",
    "train_aug_imgs = np.zeros([5216,64,64,3])\n",
    "train_aug_labels = np.zeros([5216])\n",
    "\n",
    "#create 8 sets of augmented training data\n",
    "for i in list(range(0,8)):\n",
    "    train_data_gen = ImageDataGenerator(rescale = 1./255,\n",
    "                                    rotation_range= 20,\n",
    "                                    width_shift_range= 0.2,\n",
    "                                    height_shift_range= 0.2,\n",
    "                                    shear_range= 0.3,\n",
    "                                    zoom_range= 0.3,\n",
    "                                    )\n",
    "    train_generator = train_data_gen.flow_from_directory(train_dir,\n",
    "                                                     target_size = (64,64),\n",
    "                                                     batch_size = 5216,\n",
    "                                                     class_mode = 'binary',\n",
    "                                                     save_to_dir = './chest_xray/data_generated/'\n",
    "                                                 )\n",
    "    \n",
    "    train_img, train_labels = next(train_generator)\n",
    "    if i == 0:\n",
    "        train_aug_labels = np.concatenate((train_aug_labels, train_labels))\n",
    "        train_aug_labels = np.delete(train_aug_labels, range(0,5216), axis = 0)\n",
    "        \n",
    "        train_aug_imgs = np.concatenate((train_aug_imgs, train_img))\n",
    "        train_aug_imgs = np.delete(train_aug_imgs, range(0,5216), axis = 0)\n",
    "        \n",
    "    else:\n",
    "        train_aug_imgs = np.concatenate((train_aug_imgs, train_img))\n",
    "        train_aug_labels = np.concatenate((train_aug_labels, train_labels))\n",
    "    \n",
    "    \n",
    "    \n",
    "    "
   ]
  },
  {
   "cell_type": "code",
   "execution_count": 548,
   "metadata": {},
   "outputs": [],
   "source": [
    "train_img_3, train_labels_3 = next(train_generator_2)\n",
    "val_img_3, val_labels_3 = next(val_generator_2)\n",
    "test_img_3, test_labels_3 = next(test_generator_2)"
   ]
  },
  {
   "cell_type": "code",
   "execution_count": 198,
   "metadata": {},
   "outputs": [
    {
     "name": "stdout",
     "output_type": "stream",
     "text": [
      "Found 5216 images belonging to 2 classes.\n"
     ]
    }
   ],
   "source": [
    "train_generator_2 = train_data_gen.flow_from_directory(train_dir,\n",
    "                                                     target_size = (64,64),\n",
    "                                                     batch_size = 5216,\n",
    "                                                     class_mode = 'binary',\n",
    "                                                     save_to_dir = './chest_xray/data_generated/'\n",
    "                                                 )\n",
    "train_img2, train_labels2 = next(train_generator_2)"
   ]
  },
  {
   "cell_type": "code",
   "execution_count": 200,
   "metadata": {},
   "outputs": [],
   "source": [
    "train_labels_2 = np.concatenate((train_labels, train_labels2))\n",
    "train_img_2 = np.concatenate((train_img, train_img2))"
   ]
  },
  {
   "cell_type": "markdown",
   "metadata": {},
   "source": [
    "A 94% accuracy at classifying the images. A great improvement from our baseline model and previous CNN model. The more important score, the recall score of the pneumonia cases at 98% shows a near perfect score."
   ]
  },
  {
   "cell_type": "code",
   "execution_count": 557,
   "metadata": {},
   "outputs": [
    {
     "name": "stdout",
     "output_type": "stream",
     "text": [
      "              precision    recall  f1-score   support\n",
      "\n",
      "         0.0       0.97      0.87      0.91       234\n",
      "         1.0       0.93      0.98      0.95       390\n",
      "\n",
      "    accuracy                           0.94       624\n",
      "   macro avg       0.95      0.92      0.93       624\n",
      "weighted avg       0.94      0.94      0.94       624\n",
      "\n"
     ]
    }
   ],
   "source": [
    "test_predict = model_4.predict_classes(test_img)\n",
    "\n",
    "report = classification_report(test_labels, test_predict)\n",
    "\n",
    "print(report)"
   ]
  },
  {
   "cell_type": "code",
   "execution_count": 736,
   "metadata": {},
   "outputs": [
    {
     "name": "stdout",
     "output_type": "stream",
     "text": [
      "Confusion matrix, without normalization\n",
      "[[201  33]\n",
      " [ 15 375]]\n"
     ]
    },
    {
     "data": {
      "image/png": "[encoded data removed]",
      "text/plain": [
       "<Figure size 576x432 with 2 Axes>"
      ]
     },
     "metadata": {},
     "output_type": "display_data"
    }
   ],
   "source": [
    "def plot_confusion_matrix(cm, classes,\n",
    "                        normalize=False,\n",
    "                        title='Confusion matrix',\n",
    "                        cmap=plt.cm.Blues):\n",
    "    \"\"\"\n",
    "    This function prints and plots the confusion matrix.\n",
    "    Normalization can be applied by setting `normalize=True`.\n",
    "    \"\"\"\n",
    "    plt.imshow(cm, interpolation='nearest', cmap=cmap)\n",
    "    plt.title(title, fontdict={'fontsize': 18})\n",
    "    sns.set_style( 'whitegrid',{'axes.grid' : False})\n",
    "    tick_marks = np.arange(len(classes))\n",
    "    plt.xticks(tick_marks, classes, rotation=45)\n",
    "    plt.yticks(tick_marks, classes)\n",
    "\n",
    "    if normalize:\n",
    "        cm = cm.astype('float') / cm.sum(axis=1)[:, np.newaxis]\n",
    "        print(\"Normalized confusion matrix\")\n",
    "    else:\n",
    "        print('Confusion matrix, without normalization')\n",
    "\n",
    "    print(cm)\n",
    "\n",
    "    thresh = cm.max() / 2.\n",
    "    for i, j in itertools.product(range(cm.shape[0]), range(cm.shape[1])):\n",
    "        plt.text(j, i, cm[i, j],\n",
    "            horizontalalignment=\"center\",\n",
    "            color=\"white\" if cm[i, j] > thresh else \"black\")\n",
    "    plt.ylim([1.5,-.5])\n",
    "    plt.colorbar()\n",
    "    plt.tight_layout()\n",
    "    plt.ylabel('True')\n",
    "    plt.xlabel('Predicted')\n",
    "    plt.grid('off')\n",
    "    plt.show()\n",
    "plt.figure(figsize = (8,6))\n",
    "plot_confusion_matrix(cm, classes = ['Normal', 'Pneumonia'])\n"
   ]
  },
  {
   "cell_type": "code",
   "execution_count": 737,
   "metadata": {},
   "outputs": [
    {
     "name": "stdout",
     "output_type": "stream",
     "text": [
      "Normalized confusion matrix\n",
      "[[0.85897436 0.14102564]\n",
      " [0.03846154 0.96153846]]\n"
     ]
    },
    {
     "data": {
      "image/png": "[encoded data removed]",
      "text/plain": [
       "<Figure size 576x432 with 2 Axes>"
      ]
     },
     "metadata": {},
     "output_type": "display_data"
    }
   ],
   "source": [
    "plt.figure(figsize = (8,6))\n",
    "plot_confusion_matrix(cm, normalize = True,classes= ['Normal', 'Pneumonia'])"
   ]
  },
  {
   "cell_type": "markdown",
   "metadata": {},
   "source": [
    "# Conclusion\n",
    "\n",
    "With the image dataset of around 6,000 images, the baseline model gave an accuracy of approximately 75%. Improvements were made to the model by way of using class weights for each class; using a cnn model instead of a multilayer perceptron; implementing image augmentation with varying parameters.\n",
    "\n",
    "The final model produced an accuracy of approximately 93%. Now the false positive and false negative rates are also rates we need to take into consideration. We were able to accurately predict the cases of pneumonia with a 98% recall score and a predicted cases of not having pneumonia at 87%. Ultimately, in this domain, we are in the business of saving lives. So this recall score is just we we want to not miss any patients with pneumonia.\n",
    "\n",
    "Convolutional neural networks work best for image recognition, hence the high accuracy for this dataset.\n",
    "\n",
    "# Recommendations\n",
    "\n",
    "1. This dataset is specifically from a Guangzho with female patients aged 1-5. We should gather more data to generalize across all ages and both sexes. \n",
    "\n",
    "2. Use this deep learning model under a simple GUI for healthcare professionals to use.\n",
    "\n",
    "3. Update the training set constantly to generalize the model with images coming from the healthcare professionals we partner with.\n",
    "\n"
   ]
  },
  {
   "cell_type": "code",
   "execution_count": null,
   "metadata": {},
   "outputs": [],
   "source": []
  }
 ],
 "metadata": {
  "kernelspec": {
   "display_name": "Python 3",
   "language": "python",
   "name": "python3"
  },
  "language_info": {
   "codemirror_mode": {
    "name": "ipython",
    "version": 3
   },
   "file_extension": ".py",
   "mimetype": "text/x-python",
   "name": "python",
   "nbconvert_exporter": "python",
   "pygments_lexer": "ipython3",
   "version": "3.7.4"
  }
 },
 "nbformat": 4,
 "nbformat_minor": 4
}
